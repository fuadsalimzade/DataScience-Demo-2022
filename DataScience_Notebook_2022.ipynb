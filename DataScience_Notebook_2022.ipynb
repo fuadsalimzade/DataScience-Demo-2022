{
  "nbformat": 4,
  "nbformat_minor": 0,
  "metadata": {
    "colab": {
      "name": "DataScience-Notebook-2022.ipynb",
      "provenance": [],
      "toc_visible": true,
      "authorship_tag": "ABX9TyNxSKKYYY7ikXSEYV/vPPUI",
      "include_colab_link": true
    },
    "kernelspec": {
      "name": "python3",
      "display_name": "Python 3"
    },
    "language_info": {
      "name": "python"
    }
  },
  "cells": [
    {
      "cell_type": "markdown",
      "metadata": {
        "id": "view-in-github",
        "colab_type": "text"
      },
      "source": [
        "<a href=\"https://colab.research.google.com/github/fuadsalimzade/DataScience-Demo-2022/blob/main/DataScience_Notebook_2022.ipynb\" target=\"_parent\"><img src=\"https://colab.research.google.com/assets/colab-badge.svg\" alt=\"Open In Colab\"/></a>"
      ]
    },
    {
      "cell_type": "markdown",
      "source": [
        "##Ingest"
      ],
      "metadata": {
        "id": "50v6_a-yBK36"
      }
    },
    {
      "cell_type": "code",
      "execution_count": null,
      "metadata": {
        "id": "braf2E0tA7sG"
      },
      "outputs": [],
      "source": [
        ""
      ]
    },
    {
      "cell_type": "markdown",
      "source": [
        "##EDA"
      ],
      "metadata": {
        "id": "rhXGzRHjBUZK"
      }
    },
    {
      "cell_type": "code",
      "source": [
        ""
      ],
      "metadata": {
        "id": "MriwZE18Bc2g"
      },
      "execution_count": null,
      "outputs": []
    },
    {
      "cell_type": "markdown",
      "source": [
        "##Modelling"
      ],
      "metadata": {
        "id": "Sf5ZZLm6BX83"
      }
    },
    {
      "cell_type": "code",
      "source": [
        ""
      ],
      "metadata": {
        "id": "Sns3tj_8BfUj"
      },
      "execution_count": null,
      "outputs": []
    },
    {
      "cell_type": "markdown",
      "source": [
        "###Classification Algorithm 1"
      ],
      "metadata": {
        "id": "vFxmcoKGEiek"
      }
    },
    {
      "cell_type": "markdown",
      "source": [
        "###Classification Algorithm 2"
      ],
      "metadata": {
        "id": "0PjjWtlLEnEj"
      }
    },
    {
      "cell_type": "markdown",
      "source": [
        "##Conclusion\n"
      ],
      "metadata": {
        "id": "S-sp5PkBBhnC"
      }
    },
    {
      "cell_type": "code",
      "source": [
        ""
      ],
      "metadata": {
        "id": "-FGOHT-vBkG7"
      },
      "execution_count": null,
      "outputs": []
    }
  ]
}